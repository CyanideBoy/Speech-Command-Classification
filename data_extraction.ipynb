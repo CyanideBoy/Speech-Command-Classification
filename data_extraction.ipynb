{
  "nbformat": 4,
  "nbformat_minor": 0,
  "metadata": {
    "colab": {
      "name": "cs419_linear_regression.ipynb",
      "provenance": [],
      "collapsed_sections": [],
      "authorship_tag": "ABX9TyOdAuCK3cuoi3CgMbDA/ot3",
      "include_colab_link": true
    },
    "kernelspec": {
      "name": "python3",
      "display_name": "Python 3"
    }
  },
  "cells": [
    {
      "cell_type": "markdown",
      "metadata": {
        "id": "view-in-github",
        "colab_type": "text"
      },
      "source": [
        "<a href=\"https://colab.research.google.com/github/CyanideBoy/Speech-Command-Classification/blob/master/data_extraction.ipynb\" target=\"_parent\"><img src=\"https://colab.research.google.com/assets/colab-badge.svg\" alt=\"Open In Colab\"/></a>"
      ]
    },
    {
      "cell_type": "code",
      "metadata": {
        "id": "4RuJfuULdX56",
        "colab_type": "code",
        "outputId": "ffce1198-0bcd-4c92-ed25-5fb971948865",
        "colab": {
          "base_uri": "https://localhost:8080/",
          "height": 126
        }
      },
      "source": [
        "from google.colab import drive\n",
        "drive.mount('/content/drive')"
      ],
      "execution_count": 1,
      "outputs": [
        {
          "output_type": "stream",
          "text": [
            "Go to this URL in a browser: https://accounts.google.com/o/oauth2/auth?client_id=947318989803-6bn6qk8qdgf4n4g3pfee6491hc0brc4i.apps.googleusercontent.com&redirect_uri=urn%3aietf%3awg%3aoauth%3a2.0%3aoob&response_type=code&scope=email%20https%3a%2f%2fwww.googleapis.com%2fauth%2fdocs.test%20https%3a%2f%2fwww.googleapis.com%2fauth%2fdrive%20https%3a%2f%2fwww.googleapis.com%2fauth%2fdrive.photos.readonly%20https%3a%2f%2fwww.googleapis.com%2fauth%2fpeopleapi.readonly\n",
            "\n",
            "Enter your authorization code:\n",
            "··········\n",
            "Mounted at /content/drive\n"
          ],
          "name": "stdout"
        }
      ]
    },
    {
      "cell_type": "code",
      "metadata": {
        "id": "5lUJs2l0dto-",
        "colab_type": "code",
        "colab": {}
      },
      "source": [
        "!tar -xf drive/My\\ Drive/cs419_data/commands_1s.tar.gz"
      ],
      "execution_count": 0,
      "outputs": []
    },
    {
      "cell_type": "code",
      "metadata": {
        "id": "-nl8cqSKeQKZ",
        "colab_type": "code",
        "outputId": "c863f8c1-6468-41fd-eddf-755837944259",
        "colab": {
          "base_uri": "https://localhost:8080/",
          "height": 53
        }
      },
      "source": [
        "!ls\n",
        "%cd speech_data/"
      ],
      "execution_count": 6,
      "outputs": [
        {
          "output_type": "stream",
          "text": [
            "drive  sample_data  speech_data\n",
            "/content/speech_data\n"
          ],
          "name": "stdout"
        }
      ]
    },
    {
      "cell_type": "code",
      "metadata": {
        "id": "MIxFi6TYhshf",
        "colab_type": "code",
        "colab": {}
      },
      "source": [
        "import os\n",
        "import librosa\n",
        "import IPython.display as ipd\n",
        "import matplotlib.pyplot as plt\n",
        "import numpy as np\n",
        "from scipy.io import wavfile\n",
        "import warnings\n",
        "from scipy.io import savemat\n",
        "\n",
        "#warnings.filterwarnings(\"ignore\")"
      ],
      "execution_count": 0,
      "outputs": []
    },
    {
      "cell_type": "code",
      "metadata": {
        "id": "juNUN1AohwWY",
        "colab_type": "code",
        "colab": {
          "base_uri": "https://localhost:8080/",
          "height": 55
        },
        "outputId": "7f78f1e7-55ed-4725-a9c4-980e420ca330"
      },
      "source": [
        "labels = os.listdir()\n",
        "labels.remove('_background_noise_')\n",
        "print(labels)"
      ],
      "execution_count": 8,
      "outputs": [
        {
          "output_type": "stream",
          "text": [
            "['up', 'three', 'house', 'four', 'stop', 'sheila', 'left', 'cat', 'on', 'tree', 'six', 'right', 'bird', 'go', 'seven', 'no', 'one', 'wow', 'marvin', 'off', 'yes', 'nine', 'zero', 'dog', 'two', 'happy', 'down', 'five', 'eight', 'bed']\n"
          ],
          "name": "stdout"
        }
      ]
    },
    {
      "cell_type": "code",
      "metadata": {
        "id": "9TGsOUJvGfuG",
        "colab_type": "code",
        "colab": {
          "base_uri": "https://localhost:8080/",
          "height": 106
        },
        "outputId": "a364da08-f9d3-41d2-bb4c-c248ac0698ef"
      },
      "source": [
        "## Checking output samples and datastructure\n",
        "\n",
        "samples, sample_rate = librosa.load(labels[1] + '/' + os.listdir(labels[1])[4], sr = 16000)\n",
        "print(sample_rate)\n",
        "print(samples)\n",
        "print(samples.shape)\n",
        "print(type(samples))"
      ],
      "execution_count": 9,
      "outputs": [
        {
          "output_type": "stream",
          "text": [
            "16000\n",
            "[-0.0010376   0.00515747  0.00714111 ...  0.00128174  0.00015259\n",
            "  0.00180054]\n",
            "(16000,)\n",
            "<class 'numpy.ndarray'>\n"
          ],
          "name": "stdout"
        }
      ]
    },
    {
      "cell_type": "code",
      "metadata": {
        "id": "RjSGYQZpQtgI",
        "colab_type": "code",
        "colab": {}
      },
      "source": [
        "labels\n",
        "#labels = labels[-3:]"
      ],
      "execution_count": 0,
      "outputs": []
    },
    {
      "cell_type": "code",
      "metadata": {
        "id": "BsmpWFzqh52v",
        "colab_type": "code",
        "outputId": "161ba624-8f1c-4b49-d765-a5d36d2a1fc6",
        "colab": {
          "base_uri": "https://localhost:8080/",
          "height": 124
        }
      },
      "source": [
        "for label in labels:\n",
        "    print(label)\n",
        "    feat_matrix = None\n",
        "    flag = False\n",
        "    waves = [f for f in os.listdir(label) if f.endswith('.wav')]\n",
        "    for wav in waves:\n",
        "        samples, sample_rate = librosa.load(label + '/' + wav, sr = 16000)\n",
        "        samples = librosa.resample(samples, sample_rate, 8000)\n",
        "        if flag:\n",
        "          feat_matrix = np.vstack((feat_matrix,samples))\n",
        "        else:\n",
        "          feat_matrix = samples\n",
        "          flag = True\n",
        "\n",
        "    savemat(label,mdict={'samples':feat_matrix},do_compression=True)    \n",
        "    print(feat_matrix.shape)"
      ],
      "execution_count": 12,
      "outputs": [
        {
          "output_type": "stream",
          "text": [
            "five\n",
            "(2161, 8000)\n",
            "eight\n",
            "(2111, 8000)\n",
            "bed\n",
            "(1484, 8000)\n"
          ],
          "name": "stdout"
        }
      ]
    },
    {
      "cell_type": "code",
      "metadata": {
        "id": "A67MgavWWkSW",
        "colab_type": "code",
        "colab": {
          "base_uri": "https://localhost:8080/",
          "height": 160
        },
        "outputId": "69583c22-b093-4a93-8061-64c0e2628854"
      },
      "source": [
        "\n",
        "!ls\n",
        "!mv *.mat /content/drive/My\\ Drive/cs419_data/\n",
        "!ls\n"
      ],
      "execution_count": 13,
      "outputs": [
        {
          "output_type": "stream",
          "text": [
            "_background_noise_  cat    eight.mat  go     marvin  on     sheila  tree  yes\n",
            "bed\t\t    dog    five       happy  nine    one    six     two   zero\n",
            "bed.mat\t\t    down   five.mat   house  no      right  stop    up\n",
            "bird\t\t    eight  four       left   off     seven  three   wow\n",
            "_background_noise_  dog    four   left\t  off\t seven\t three\twow\n",
            "bed\t\t    down   go\t  marvin  on\t sheila  tree\tyes\n",
            "bird\t\t    eight  happy  nine\t  one\t six\t two\tzero\n",
            "cat\t\t    five   house  no\t  right  stop\t up\n"
          ],
          "name": "stdout"
        }
      ]
    },
    {
      "cell_type": "code",
      "metadata": {
        "id": "qvAJ0hCYmr43",
        "colab_type": "code",
        "colab": {}
      },
      "source": [
        ""
      ],
      "execution_count": 0,
      "outputs": []
    }
  ]
}